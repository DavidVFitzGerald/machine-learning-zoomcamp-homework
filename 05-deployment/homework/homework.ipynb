{
 "cells": [
  {
   "cell_type": "markdown",
   "id": "328017c4-dc73-4d63-b649-0d1e0c57957c",
   "metadata": {},
   "source": [
    "## Question 1"
   ]
  },
  {
   "cell_type": "raw",
   "id": "f1a00533-1a86-41dd-addd-0ee12ba570b0",
   "metadata": {},
   "source": [
    "pip install uv"
   ]
  },
  {
   "cell_type": "code",
   "execution_count": 1,
   "id": "c095d076-2b41-40e4-94e5-deb919ea3a77",
   "metadata": {},
   "outputs": [
    {
     "name": "stdout",
     "output_type": "stream",
     "text": [
      "uv 0.9.5\n",
      "Note: you may need to restart the kernel to use updated packages.\n"
     ]
    }
   ],
   "source": [
    "uv --version"
   ]
  },
  {
   "cell_type": "markdown",
   "id": "6115a9d8-dcfe-41c3-8b01-bad1b1fe487f",
   "metadata": {},
   "source": [
    "## Question 2"
   ]
  },
  {
   "cell_type": "code",
   "execution_count": 2,
   "id": "96c286ed-015b-4001-9dea-fed3b0586ce8",
   "metadata": {},
   "outputs": [
    {
     "name": "stdout",
     "output_type": "stream",
     "text": [
      "Adding `\u001b[36mhomework\u001b[39m` as member of workspace `\u001b[36m/workspaces/machine-learning-zoomcamp-homework\u001b[39m`\n",
      "Initialized project `\u001b[36mhomework\u001b[39m`\n",
      "Note: you may need to restart the kernel to use updated packages.\n"
     ]
    }
   ],
   "source": [
    "uv init"
   ]
  },
  {
   "cell_type": "code",
   "execution_count": 3,
   "id": "056fc7f6-c9f1-47e7-b020-03ac2c05f5d4",
   "metadata": {},
   "outputs": [],
   "source": [
    "rm main.py"
   ]
  },
  {
   "cell_type": "code",
   "execution_count": 4,
   "id": "84228094-710c-4069-9610-3196ad3ca8c9",
   "metadata": {},
   "outputs": [
    {
     "name": "stdout",
     "output_type": "stream",
     "text": [
      "\u001b[2K\u001b[2mResolved \u001b[1m26 packages\u001b[0m \u001b[2min 1.51s\u001b[0m\u001b[0m                                        \u001b[0m\n",
      "\u001b[2K\u001b[2mAudited \u001b[1m5 packages\u001b[0m \u001b[2min 113ms\u001b[0m\u001b[0m                                          \u001b[0m\n",
      "Note: you may need to restart the kernel to use updated packages.\n"
     ]
    }
   ],
   "source": [
    "uv add scikit-learn"
   ]
  },
  {
   "cell_type": "code",
   "execution_count": 6,
   "id": "3c4dc3c6-f168-4a60-8f30-a28903c346ac",
   "metadata": {},
   "outputs": [
    {
     "name": "stdout",
     "output_type": "stream",
     "text": [
      "--2025-10-27 15:59:56--  https://github.com/DataTalksClub/machine-learning-zoomcamp/raw/refs/heads/master/cohorts/2025/05-deployment/pipeline_v1.bin\n",
      "Resolving github.com (github.com)... 140.82.121.3\n",
      "Connecting to github.com (github.com)|140.82.121.3|:443... connected.\n",
      "HTTP request sent, awaiting response... 302 Found\n",
      "Location: https://raw.githubusercontent.com/DataTalksClub/machine-learning-zoomcamp/refs/heads/master/cohorts/2025/05-deployment/pipeline_v1.bin [following]\n",
      "--2025-10-27 15:59:56--  https://raw.githubusercontent.com/DataTalksClub/machine-learning-zoomcamp/refs/heads/master/cohorts/2025/05-deployment/pipeline_v1.bin\n",
      "Resolving raw.githubusercontent.com (raw.githubusercontent.com)... 185.199.108.133, 185.199.109.133, 185.199.111.133, ...\n",
      "Connecting to raw.githubusercontent.com (raw.githubusercontent.com)|185.199.108.133|:443... connected.\n",
      "HTTP request sent, awaiting response... 200 OK\n",
      "Length: 1300 (1.3K) [application/octet-stream]\n",
      "Saving to: ‘pipeline_v1.bin’\n",
      "\n",
      "pipeline_v1.bin     100%[===================>]   1.27K  --.-KB/s    in 0s      \n",
      "\n",
      "2025-10-27 15:59:57 (76.1 MB/s) - ‘pipeline_v1.bin’ saved [1300/1300]\n",
      "\n"
     ]
    }
   ],
   "source": [
    "!wget https://github.com/DataTalksClub/machine-learning-zoomcamp/raw/refs/heads/master/cohorts/2025/05-deployment/pipeline_v1.bin"
   ]
  },
  {
   "cell_type": "markdown",
   "id": "20a120f6-9afa-4760-a9b2-504ae5ccc981",
   "metadata": {},
   "source": [
    "## Question 4"
   ]
  },
  {
   "cell_type": "code",
   "execution_count": 7,
   "id": "0f6f14d6-e268-449e-9527-c668d6fed545",
   "metadata": {},
   "outputs": [
    {
     "name": "stdout",
     "output_type": "stream",
     "text": [
      "Probability of client getting a subscription = 0.5340417283801275\n",
      "Note: you may need to restart the kernel to use updated packages.\n"
     ]
    }
   ],
   "source": [
    "uv run python call_predict.py"
   ]
  },
  {
   "cell_type": "markdown",
   "id": "ce147ebe-9fe1-40c8-a53c-ca7890be9fda",
   "metadata": {},
   "source": [
    "## Question 5"
   ]
  },
  {
   "cell_type": "code",
   "execution_count": null,
   "id": "8eb405d7-6317-4b93-8bec-0c5c7ab0dc0d",
   "metadata": {},
   "outputs": [],
   "source": [
    "!docker image pull agrigorev/zoomcamp-model:2025"
   ]
  },
  {
   "cell_type": "code",
   "execution_count": 10,
   "id": "9f15b5ac-e823-47b9-aae6-96413e054c6a",
   "metadata": {},
   "outputs": [
    {
     "name": "stdout",
     "output_type": "stream",
     "text": [
      "REPOSITORY                 TAG       IMAGE ID       CREATED        SIZE\n",
      "churn-prediction           latest    5218f1e00c74   28 hours ago   1.33GB\n",
      "agrigorev/zoomcamp-model   2025      4a9ecc576ae9   6 days ago     121MB\n",
      "hello-world                latest    1b44b5a3e06a   2 months ago   10.1kB\n"
     ]
    }
   ],
   "source": [
    "!docker images"
   ]
  },
  {
   "cell_type": "markdown",
   "id": "b6d75bea-f298-4e60-b427-9d285314044e",
   "metadata": {},
   "source": [
    "## Question 6"
   ]
  },
  {
   "cell_type": "code",
   "execution_count": null,
   "id": "05f350b4-dab4-499a-8972-0be223c1a6fc",
   "metadata": {},
   "outputs": [],
   "source": []
  }
 ],
 "metadata": {
  "kernelspec": {
   "display_name": "Python 3 (ipykernel)",
   "language": "python",
   "name": "python3"
  },
  "language_info": {
   "codemirror_mode": {
    "name": "ipython",
    "version": 3
   },
   "file_extension": ".py",
   "mimetype": "text/x-python",
   "name": "python",
   "nbconvert_exporter": "python",
   "pygments_lexer": "ipython3",
   "version": "3.12.1"
  }
 },
 "nbformat": 4,
 "nbformat_minor": 5
}
