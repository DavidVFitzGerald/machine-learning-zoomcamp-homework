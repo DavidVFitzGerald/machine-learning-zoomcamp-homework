{
 "cells": [
  {
   "cell_type": "code",
   "execution_count": 1,
   "id": "bfc1d95a-d9d4-4c30-9776-569867c4238d",
   "metadata": {},
   "outputs": [
    {
     "name": "stdout",
     "output_type": "stream",
     "text": [
      "--2025-10-13 18:10:51--  https://raw.githubusercontent.com/alexeygrigorev/datasets/master/course_lead_scoring.csv\n",
      "Resolving raw.githubusercontent.com (raw.githubusercontent.com)... 185.199.108.133, 185.199.111.133, 185.199.110.133, ...\n",
      "Connecting to raw.githubusercontent.com (raw.githubusercontent.com)|185.199.108.133|:443... connected.\n",
      "HTTP request sent, awaiting response... 200 OK\n",
      "Length: 80876 (79K) [text/plain]\n",
      "Saving to: ‘course_lead_scoring.csv.4’\n",
      "\n",
      "course_lead_scoring 100%[===================>]  78.98K  --.-KB/s    in 0.002s  \n",
      "\n",
      "2025-10-13 18:10:51 (35.2 MB/s) - ‘course_lead_scoring.csv.4’ saved [80876/80876]\n",
      "\n"
     ]
    }
   ],
   "source": [
    "!wget https://raw.githubusercontent.com/alexeygrigorev/datasets/master/course_lead_scoring.csv"
   ]
  },
  {
   "cell_type": "code",
   "execution_count": 2,
   "id": "1422ce47-d8fc-4b18-86bd-a33350160f58",
   "metadata": {},
   "outputs": [],
   "source": [
    "import pandas as pd"
   ]
  },
  {
   "cell_type": "markdown",
   "id": "3f666ab2-2014-4f48-8b68-68a1835e0467",
   "metadata": {},
   "source": [
    "## Data preparation"
   ]
  },
  {
   "cell_type": "code",
   "execution_count": 3,
   "id": "70338fa3-39dc-4ed6-86a5-1029738a5c6c",
   "metadata": {},
   "outputs": [],
   "source": [
    "df = pd.read_csv(\"course_lead_scoring.csv\")"
   ]
  },
  {
   "cell_type": "code",
   "execution_count": 4,
   "id": "9c1a5fc1-e26c-4df3-8983-8e3b72e9ad4c",
   "metadata": {},
   "outputs": [
    {
     "name": "stdout",
     "output_type": "stream",
     "text": [
      "<class 'pandas.core.frame.DataFrame'>\n",
      "RangeIndex: 1462 entries, 0 to 1461\n",
      "Data columns (total 9 columns):\n",
      " #   Column                    Non-Null Count  Dtype  \n",
      "---  ------                    --------------  -----  \n",
      " 0   lead_source               1334 non-null   object \n",
      " 1   industry                  1328 non-null   object \n",
      " 2   number_of_courses_viewed  1462 non-null   int64  \n",
      " 3   annual_income             1281 non-null   float64\n",
      " 4   employment_status         1362 non-null   object \n",
      " 5   location                  1399 non-null   object \n",
      " 6   interaction_count         1462 non-null   int64  \n",
      " 7   lead_score                1462 non-null   float64\n",
      " 8   converted                 1462 non-null   int64  \n",
      "dtypes: float64(2), int64(3), object(4)\n",
      "memory usage: 102.9+ KB\n"
     ]
    }
   ],
   "source": [
    "df.info()"
   ]
  },
  {
   "cell_type": "code",
   "execution_count": 5,
   "id": "56f31b7b-1b81-4953-8f63-f1d5e4a2f9c0",
   "metadata": {},
   "outputs": [
    {
     "data": {
      "text/plain": [
       "lead_source                 128\n",
       "industry                    134\n",
       "number_of_courses_viewed      0\n",
       "annual_income               181\n",
       "employment_status           100\n",
       "location                     63\n",
       "interaction_count             0\n",
       "lead_score                    0\n",
       "converted                     0\n",
       "dtype: int64"
      ]
     },
     "execution_count": 5,
     "metadata": {},
     "output_type": "execute_result"
    }
   ],
   "source": [
    "df.isna().sum()"
   ]
  },
  {
   "cell_type": "code",
   "execution_count": 6,
   "id": "94d8118c-2216-4a1a-a60f-c596933d19ea",
   "metadata": {},
   "outputs": [],
   "source": [
    "target_col = \"converted\"\n",
    "numerical_cols = []\n",
    "categorical_cols = []\n",
    "for col in df.columns:\n",
    "    if col != target_col:\n",
    "        if df[col].dtype == \"object\":\n",
    "            categorical_cols.append(col)\n",
    "    \n",
    "        else:\n",
    "            numerical_cols.append(col)\n"
   ]
  },
  {
   "cell_type": "code",
   "execution_count": 7,
   "id": "90d6ac6e-e129-4614-85b8-351ac615725a",
   "metadata": {},
   "outputs": [
    {
     "data": {
      "text/plain": [
       "['number_of_courses_viewed',\n",
       " 'annual_income',\n",
       " 'interaction_count',\n",
       " 'lead_score']"
      ]
     },
     "execution_count": 7,
     "metadata": {},
     "output_type": "execute_result"
    }
   ],
   "source": [
    "numerical_cols"
   ]
  },
  {
   "cell_type": "code",
   "execution_count": 8,
   "id": "a9ae58b6-39cd-4734-b735-c56b1772430e",
   "metadata": {},
   "outputs": [
    {
     "data": {
      "text/plain": [
       "['lead_source', 'industry', 'employment_status', 'location']"
      ]
     },
     "execution_count": 8,
     "metadata": {},
     "output_type": "execute_result"
    }
   ],
   "source": [
    "categorical_cols"
   ]
  },
  {
   "cell_type": "markdown",
   "id": "67260bb8-d645-4db6-9bc7-d6d7280ae642",
   "metadata": {},
   "source": [
    "## Fill missing values"
   ]
  },
  {
   "cell_type": "code",
   "execution_count": 9,
   "id": "cccde543-0822-4e05-80db-eca131e0b33f",
   "metadata": {},
   "outputs": [],
   "source": [
    "for col in df.columns:\n",
    "    if col in categorical_cols:\n",
    "        df[col] = df[col].fillna(\"NA\")\n",
    "    elif col in numerical_cols:\n",
    "        df[col] = df[col].fillna(0)"
   ]
  },
  {
   "cell_type": "code",
   "execution_count": 10,
   "id": "e92d9ecf-4083-4a9d-9473-6bd031125915",
   "metadata": {},
   "outputs": [
    {
     "data": {
      "text/plain": [
       "lead_source                 0\n",
       "industry                    0\n",
       "number_of_courses_viewed    0\n",
       "annual_income               0\n",
       "employment_status           0\n",
       "location                    0\n",
       "interaction_count           0\n",
       "lead_score                  0\n",
       "converted                   0\n",
       "dtype: int64"
      ]
     },
     "execution_count": 10,
     "metadata": {},
     "output_type": "execute_result"
    }
   ],
   "source": [
    "df.isna().sum()"
   ]
  },
  {
   "cell_type": "markdown",
   "id": "bcfd473c-7df9-4644-84ea-bbe6b75a7dfa",
   "metadata": {},
   "source": [
    "## Question 1"
   ]
  },
  {
   "cell_type": "code",
   "execution_count": 11,
   "id": "fe64a324-7e2b-4ee2-b95a-665f6b91222c",
   "metadata": {},
   "outputs": [
    {
     "data": {
      "text/plain": [
       "industry\n",
       "retail           203\n",
       "finance          200\n",
       "other            198\n",
       "healthcare       187\n",
       "education        187\n",
       "technology       179\n",
       "manufacturing    174\n",
       "NA               134\n",
       "Name: count, dtype: int64"
      ]
     },
     "execution_count": 11,
     "metadata": {},
     "output_type": "execute_result"
    }
   ],
   "source": [
    "df[\"industry\"].value_counts()"
   ]
  },
  {
   "cell_type": "code",
   "execution_count": 12,
   "id": "e9675e00-dd8e-478f-95b2-1b3bf81c0b82",
   "metadata": {},
   "outputs": [
    {
     "data": {
      "text/plain": [
       "0    retail\n",
       "Name: industry, dtype: object"
      ]
     },
     "execution_count": 12,
     "metadata": {},
     "output_type": "execute_result"
    }
   ],
   "source": [
    "df[\"industry\"].mode()"
   ]
  },
  {
   "cell_type": "markdown",
   "id": "71d1085a-8446-445d-b994-fbde0de6842c",
   "metadata": {},
   "source": [
    "Answer: retail"
   ]
  },
  {
   "cell_type": "markdown",
   "id": "a5b14967-e8c5-4210-8371-ccb00b079226",
   "metadata": {},
   "source": [
    "## Question 2"
   ]
  },
  {
   "cell_type": "code",
   "execution_count": 13,
   "id": "0ecad7f6-70e1-4185-b380-6cbbaa64e883",
   "metadata": {},
   "outputs": [
    {
     "name": "stdout",
     "output_type": "stream",
     "text": [
      "Correlations:\n",
      " - interaction_count and lead_score: 0.010\n",
      " - number_of_courses_viewed and lead_score: 0.005\n",
      " - number_of_courses_viewed and interaction_count: 0.024\n",
      " - annual_income and interaction_count: 0.027\n",
      "\n",
      "Answer: the two features with the biggest correlation are annual_income and interaction_count.\n"
     ]
    }
   ],
   "source": [
    "corr_pairs = zip(\n",
    "    [\"interaction_count\", \"number_of_courses_viewed\", \"number_of_courses_viewed\", \"annual_income\"],\n",
    "    [\"lead_score\", \"lead_score\", \"interaction_count\", \"interaction_count\"]\n",
    ")\n",
    "print(\"Correlations:\")\n",
    "max_corr = 0\n",
    "feat1_max_corr = \"\"\n",
    "feat2_max_corr = \"\"\n",
    "for feat1, feat2 in corr_pairs:\n",
    "    corr = abs(df[feat1].corr(df[feat2]))\n",
    "    print(f\" - {feat1} and {feat2}: {corr:.3f}\")\n",
    "    if corr > max_corr:\n",
    "        max_corr = corr\n",
    "        feat1_max_corr = feat1\n",
    "        feat2_max_corr = feat2\n",
    "\n",
    "print(f\"\\nAnswer: the two features with the biggest correlation are {feat1_max_corr} and {feat2_max_corr}.\")"
   ]
  },
  {
   "cell_type": "markdown",
   "id": "37f4075f-bab7-4779-86a0-921e87235189",
   "metadata": {},
   "source": [
    "## Split the data"
   ]
  },
  {
   "cell_type": "code",
   "execution_count": 14,
   "id": "4b5738ad-f266-4307-b2d9-5e28a8af200e",
   "metadata": {},
   "outputs": [],
   "source": [
    "from sklearn.model_selection import train_test_split"
   ]
  },
  {
   "cell_type": "code",
   "execution_count": 15,
   "id": "5c939ddf-2f15-4c2e-89cb-392828377736",
   "metadata": {},
   "outputs": [
    {
     "data": {
      "text/plain": [
       "True"
      ]
     },
     "execution_count": 15,
     "metadata": {},
     "output_type": "execute_result"
    }
   ],
   "source": [
    "df_full_train, df_test = train_test_split(df, test_size=0.2, random_state=42)\n",
    "df_train, df_val = train_test_split(df_full_train, test_size=0.2/0.8, random_state=42)\n",
    "len(df_train) + len(df_val) + len(df_test) == len(df)"
   ]
  },
  {
   "cell_type": "code",
   "execution_count": 16,
   "id": "014ea415-911d-4d88-bdff-b3152d3ab3ea",
   "metadata": {},
   "outputs": [],
   "source": [
    "y_full_train = df_full_train[target_col].copy()\n",
    "y_train = df_train[target_col].copy()\n",
    "y_val = df_val[target_col].copy()\n",
    "y_test = df_test[target_col].copy()"
   ]
  },
  {
   "cell_type": "code",
   "execution_count": 17,
   "id": "b821e87d-e854-4077-8be6-f2a9011211d3",
   "metadata": {},
   "outputs": [],
   "source": [
    "del df_full_train[target_col]\n",
    "del df_train[target_col]\n",
    "del df_val[target_col]\n",
    "del df_test[target_col]"
   ]
  },
  {
   "cell_type": "markdown",
   "id": "5ad1f28a-ba39-405a-bfd5-51bb2743060d",
   "metadata": {},
   "source": [
    "## Question 3"
   ]
  },
  {
   "cell_type": "code",
   "execution_count": 18,
   "id": "d94b2b5b-cef4-422a-83b6-916003cd6d89",
   "metadata": {},
   "outputs": [],
   "source": [
    "from sklearn.metrics import mutual_info_score"
   ]
  },
  {
   "cell_type": "code",
   "execution_count": 19,
   "id": "56c373e4-b072-484e-b39c-db0a23a4ad89",
   "metadata": {},
   "outputs": [],
   "source": [
    "def mutual_info_score_(series):\n",
    "    return mutual_info_score(series, y_train)"
   ]
  },
  {
   "cell_type": "code",
   "execution_count": 20,
   "id": "8faf7fca-7ca0-47c1-988e-c6f17aa468d0",
   "metadata": {
    "scrolled": true
   },
   "outputs": [
    {
     "data": {
      "text/plain": [
       "lead_source          0.035396\n",
       "employment_status    0.012938\n",
       "industry             0.011575\n",
       "location             0.004464\n",
       "dtype: float64"
      ]
     },
     "execution_count": 20,
     "metadata": {},
     "output_type": "execute_result"
    }
   ],
   "source": [
    "mi = df_train[categorical_cols].apply(mutual_info_score_)\n",
    "mi.sort_values(ascending=False)"
   ]
  },
  {
   "cell_type": "markdown",
   "id": "77260139-582d-48fb-8114-ab939ad93de8",
   "metadata": {},
   "source": [
    "## Question 4"
   ]
  },
  {
   "cell_type": "code",
   "execution_count": 21,
   "id": "1c4a7565-e07b-4b3a-bc5f-4a0e0d1e0486",
   "metadata": {},
   "outputs": [],
   "source": [
    "from sklearn.feature_extraction import DictVectorizer"
   ]
  },
  {
   "cell_type": "code",
   "execution_count": 22,
   "id": "22dcc994-8e4d-41fe-a35b-eaf945d06ed0",
   "metadata": {},
   "outputs": [],
   "source": [
    "dv = DictVectorizer()\n",
    "dicts_train = df_train.to_dict(orient=\"records\")\n",
    "X_train = dv.fit_transform(dicts_train)\n",
    "val_dicts = df_val.to_dict(orient=\"records\")\n",
    "X_val = dv.transform(val_dicts)"
   ]
  },
  {
   "cell_type": "code",
   "execution_count": 23,
   "id": "eabb9ca3-dd48-4a38-8559-b279244ea769",
   "metadata": {},
   "outputs": [],
   "source": [
    "from sklearn.linear_model import LogisticRegression"
   ]
  },
  {
   "cell_type": "code",
   "execution_count": 24,
   "id": "f9e94757-24eb-40e0-91d2-1092e109cdca",
   "metadata": {},
   "outputs": [
    {
     "name": "stdout",
     "output_type": "stream",
     "text": [
      "Model accuracy: 0.7\n"
     ]
    }
   ],
   "source": [
    "model = LogisticRegression(solver='liblinear', C=1.0, max_iter=1000, random_state=42)\n",
    "model.fit(X_train, y_train)\n",
    "y_pred = model.predict(X_val)\n",
    "model_accuracy = (y_val == y_pred).mean()\n",
    "print(f\"Model accuracy: {model_accuracy.round(2)}\")"
   ]
  },
  {
   "cell_type": "markdown",
   "id": "78b8e583-b157-4e4c-ab3e-10c3dc176d20",
   "metadata": {},
   "source": [
    "## Question 5"
   ]
  },
  {
   "cell_type": "code",
   "execution_count": 25,
   "id": "1e2e2607-2fba-4520-894e-194b0bf95330",
   "metadata": {},
   "outputs": [
    {
     "name": "stdout",
     "output_type": "stream",
     "text": [
      "Model accuracy without the feature 'industry': 0.6997\n",
      "Absolute difference in model accuracy: 0.0\n",
      "Model accuracy without the feature 'employment_status': 0.6962\n",
      "Absolute difference in model accuracy: 0.0034\n",
      "Model accuracy without the feature 'lead_score': 0.7065\n",
      "Absolute difference in model accuracy: 0.0068\n",
      "\n",
      "Feature with smallest accuracy difference: industry\n"
     ]
    }
   ],
   "source": [
    "features_to_eliminate = [\"industry\", \"employment_status\", \"lead_score\"]\n",
    "accuracy_diffs = dict.fromkeys(features_to_eliminate)\n",
    "for feat in features_to_eliminate:\n",
    "    cols_to_keep = df_train.columns.to_list()\n",
    "    cols_to_keep.remove(feat)\n",
    "    dicts_train = df_train[cols_to_keep].to_dict(orient=\"records\")\n",
    "    dv = DictVectorizer()\n",
    "    X_train = dv.fit_transform(dicts_train)\n",
    "    val_dicts = df_val[cols_to_keep].to_dict(orient=\"records\")\n",
    "    X_val = dv.transform(val_dicts)\n",
    "    model = LogisticRegression(solver='liblinear', C=1.0, max_iter=1000, random_state=42)\n",
    "    model.fit(X_train, y_train)\n",
    "    y_pred = model.predict(X_val)\n",
    "    new_model_accuracy = (y_val == y_pred).mean()\n",
    "    print(f\"Model accuracy without the feature '{feat}': {new_model_accuracy.round(4)}\")\n",
    "    accuracy_diffs[feat] = abs(model_accuracy - new_model_accuracy)\n",
    "    print(f\"Absolute difference in model accuracy: {accuracy_diffs[feat].round(4)}\")\n",
    "\n",
    "print(f\"\\nFeature with smallest accuracy difference: {min(accuracy_diffs, key=accuracy_diffs.get)}\")"
   ]
  },
  {
   "cell_type": "markdown",
   "id": "9bea51ad-2673-46b7-a644-00bdadcc66c8",
   "metadata": {},
   "source": [
    "## Question 6"
   ]
  },
  {
   "cell_type": "code",
   "execution_count": 26,
   "id": "792f2b82-c53c-4eab-a254-52c919f3bc42",
   "metadata": {},
   "outputs": [
    {
     "name": "stdout",
     "output_type": "stream",
     "text": [
      "\n",
      "C with best accuracy: 0.01\n"
     ]
    }
   ],
   "source": [
    "dv = DictVectorizer()\n",
    "dicts_train = df_train.to_dict(orient=\"records\")\n",
    "X_train = dv.fit_transform(dicts_train)\n",
    "val_dicts = df_val.to_dict(orient=\"records\")\n",
    "X_val = dv.transform(val_dicts)\n",
    "model_accuracies = {}\n",
    "for C in [0.01, 0.1, 1, 10, 100]:\n",
    "    model = LogisticRegression(solver='liblinear', C=C, max_iter=1000, random_state=42)\n",
    "    model.fit(X_train, y_train)\n",
    "    y_pred = model.predict(X_val)\n",
    "    model_accuracies[C] = (y_val == y_pred).mean().round(3)\n",
    "\n",
    "print(f\"\\nC with best accuracy: {max(model_accuracies, key=model_accuracies.get)}\")"
   ]
  }
 ],
 "metadata": {
  "kernelspec": {
   "display_name": "Python 3 (ipykernel)",
   "language": "python",
   "name": "python3"
  },
  "language_info": {
   "codemirror_mode": {
    "name": "ipython",
    "version": 3
   },
   "file_extension": ".py",
   "mimetype": "text/x-python",
   "name": "python",
   "nbconvert_exporter": "python",
   "pygments_lexer": "ipython3",
   "version": "3.12.1"
  }
 },
 "nbformat": 4,
 "nbformat_minor": 5
}
