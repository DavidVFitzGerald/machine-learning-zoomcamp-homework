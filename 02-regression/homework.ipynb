{
 "cells": [
  {
   "cell_type": "code",
   "execution_count": 1,
   "id": "6f970658-8943-44e1-be6b-bdf0959f3fca",
   "metadata": {
    "scrolled": true
   },
   "outputs": [
    {
     "name": "stdout",
     "output_type": "stream",
     "text": [
      "--2025-10-08 14:55:19--  https://raw.githubusercontent.com/alexeygrigorev/datasets/master/car_fuel_efficiency.csv\n",
      "Resolving raw.githubusercontent.com (raw.githubusercontent.com)... 185.199.108.133, 185.199.109.133, 185.199.110.133, ...\n",
      "Connecting to raw.githubusercontent.com (raw.githubusercontent.com)|185.199.108.133|:443... connected.\n",
      "HTTP request sent, awaiting response... 200 OK\n",
      "Length: 874188 (854K) [text/plain]\n",
      "Saving to: ‘car_fuel_efficiency.csv’\n",
      "\n",
      "car_fuel_efficiency 100%[===================>] 853.70K  --.-KB/s    in 0.009s  \n",
      "\n",
      "2025-10-08 14:55:19 (92.0 MB/s) - ‘car_fuel_efficiency.csv’ saved [874188/874188]\n",
      "\n"
     ]
    }
   ],
   "source": [
    "!wget https://raw.githubusercontent.com/alexeygrigorev/datasets/master/car_fuel_efficiency.csv"
   ]
  },
  {
   "cell_type": "code",
   "execution_count": 1,
   "id": "949c1963-b109-495e-a8dd-f1e481db1141",
   "metadata": {},
   "outputs": [],
   "source": [
    "import pandas as pd\n",
    "import numpy as np"
   ]
  },
  {
   "cell_type": "code",
   "execution_count": 2,
   "id": "32dd6a3f-239e-4675-a41c-9262826d6fff",
   "metadata": {},
   "outputs": [],
   "source": [
    "df = pd.read_csv(\"car_fuel_efficiency.csv\")"
   ]
  },
  {
   "cell_type": "code",
   "execution_count": 3,
   "id": "3df14f71-c460-4477-a9a1-8e6aec4246c4",
   "metadata": {},
   "outputs": [
    {
     "name": "stdout",
     "output_type": "stream",
     "text": [
      "<class 'pandas.core.frame.DataFrame'>\n",
      "RangeIndex: 9704 entries, 0 to 9703\n",
      "Data columns (total 11 columns):\n",
      " #   Column               Non-Null Count  Dtype  \n",
      "---  ------               --------------  -----  \n",
      " 0   engine_displacement  9704 non-null   int64  \n",
      " 1   num_cylinders        9222 non-null   float64\n",
      " 2   horsepower           8996 non-null   float64\n",
      " 3   vehicle_weight       9704 non-null   float64\n",
      " 4   acceleration         8774 non-null   float64\n",
      " 5   model_year           9704 non-null   int64  \n",
      " 6   origin               9704 non-null   object \n",
      " 7   fuel_type            9704 non-null   object \n",
      " 8   drivetrain           9704 non-null   object \n",
      " 9   num_doors            9202 non-null   float64\n",
      " 10  fuel_efficiency_mpg  9704 non-null   float64\n",
      "dtypes: float64(6), int64(2), object(3)\n",
      "memory usage: 834.1+ KB\n"
     ]
    }
   ],
   "source": [
    "df.info()"
   ]
  },
  {
   "cell_type": "code",
   "execution_count": 4,
   "id": "1a3b616f-d827-4a67-b48e-a6f468bd1bf3",
   "metadata": {},
   "outputs": [],
   "source": [
    "import matplotlib.pyplot as plt\n",
    "import seaborn as sns\n",
    "\n",
    "%matplotlib inline"
   ]
  },
  {
   "cell_type": "code",
   "execution_count": 5,
   "id": "1577285a-e0ac-491d-85d3-aaf6d0e59b2b",
   "metadata": {},
   "outputs": [
    {
     "data": {
      "text/plain": [
       "<Axes: xlabel='fuel_efficiency_mpg', ylabel='Count'>"
      ]
     },
     "execution_count": 5,
     "metadata": {},
     "output_type": "execute_result"
    },
    {
     "data": {
      "image/png": "[encoded data removed]",
      "text/plain": [
       "<Figure size 640x480 with 1 Axes>"
      ]
     },
     "metadata": {},
     "output_type": "display_data"
    }
   ],
   "source": [
    "sns.histplot(df[\"fuel_efficiency_mpg\"])"
   ]
  },
  {
   "cell_type": "markdown",
   "id": "52a799c1-7dd9-400e-8e19-f8c6e225985b",
   "metadata": {},
   "source": [
    "## Question 1"
   ]
  },
  {
   "cell_type": "code",
   "execution_count": 6,
   "id": "59a82cee-21b8-4083-a027-b929d9e3af73",
   "metadata": {},
   "outputs": [],
   "source": [
    "features = [\n",
    "    \"engine_displacement\",\n",
    "    \"horsepower\",\n",
    "    \"vehicle_weight\",\n",
    "    \"model_year\",\n",
    "]\n",
    "\n",
    "target = \"fuel_efficiency_mpg\""
   ]
  },
  {
   "cell_type": "code",
   "execution_count": 7,
   "id": "ada76905-3d2f-4632-9010-d70abec677e2",
   "metadata": {},
   "outputs": [
    {
     "data": {
      "text/plain": [
       "engine_displacement      0\n",
       "horsepower             708\n",
       "vehicle_weight           0\n",
       "model_year               0\n",
       "dtype: int64"
      ]
     },
     "execution_count": 7,
     "metadata": {},
     "output_type": "execute_result"
    }
   ],
   "source": [
    "df[features].isna().sum()"
   ]
  },
  {
   "cell_type": "markdown",
   "id": "af28fff5-42c2-44d0-b54d-1b810a145b20",
   "metadata": {},
   "source": [
    "## Question 2"
   ]
  },
  {
   "cell_type": "code",
   "execution_count": 8,
   "id": "7c0537fa-2f6c-4b62-8440-c23ca2ecdf97",
   "metadata": {},
   "outputs": [
    {
     "name": "stdout",
     "output_type": "stream",
     "text": [
      "Median horsepower = 149.0\n"
     ]
    }
   ],
   "source": [
    "print(f\"Median horsepower = {df[\"horsepower\"].median()}\")"
   ]
  },
  {
   "cell_type": "code",
   "execution_count": 9,
   "id": "e46869c4-6a29-43c9-b996-13d0d971ba9a",
   "metadata": {},
   "outputs": [
    {
     "data": {
      "text/plain": [
       "9704"
      ]
     },
     "execution_count": 9,
     "metadata": {},
     "output_type": "execute_result"
    }
   ],
   "source": [
    "n = len(df)\n",
    "n"
   ]
  },
  {
   "cell_type": "code",
   "execution_count": 10,
   "id": "a2fffdb6-b784-46fd-8983-9abbe8f907d5",
   "metadata": {},
   "outputs": [],
   "source": [
    "idx = np.arange(n)\n",
    "np.random.seed(42)\n",
    "np.random.shuffle(idx)"
   ]
  },
  {
   "cell_type": "code",
   "execution_count": 11,
   "id": "472b1b2e-7655-4b5d-9e46-7b9af4a54026",
   "metadata": {},
   "outputs": [
    {
     "data": {
      "text/plain": [
       "array([ 483, 7506, 8795, ..., 5390,  860, 7270], shape=(9704,))"
      ]
     },
     "execution_count": 11,
     "metadata": {},
     "output_type": "execute_result"
    }
   ],
   "source": [
    "idx"
   ]
  },
  {
   "cell_type": "code",
   "execution_count": 12,
   "id": "1217cf9c-858f-465d-ae6f-fb3397cc5017",
   "metadata": {},
   "outputs": [],
   "source": [
    "n_val = int(n * 0.2)\n",
    "n_test = int(n * 0.2)\n",
    "n_train = n - n_val - n_test"
   ]
  },
  {
   "cell_type": "code",
   "execution_count": 13,
   "id": "d88717d0-b0b8-4b50-a8f6-835398f7a344",
   "metadata": {},
   "outputs": [],
   "source": [
    "def prepare_and_split_dataset(df):\n",
    "    df = df[[*features, target]].copy()\n",
    "    df_train = df.iloc[idx[:n_train]]\n",
    "    df_val = df.iloc[idx[n_train:n_train+n_val]]\n",
    "    df_test = df.iloc[idx[n_train+n_val:]]\n",
    "    y_train = df_train[target].copy()\n",
    "    y_val = df_val[target].copy()\n",
    "    y_test = df_test[target].copy()\n",
    "    return df_train[features], df_val[features], df_test[features], y_train, y_val, y_test"
   ]
  },
  {
   "cell_type": "code",
   "execution_count": 14,
   "id": "f4a6dd2f-042e-43c5-a275-f6ad7fb2ed16",
   "metadata": {},
   "outputs": [],
   "source": [
    "df_train, df_val, df_test, y_train, y_val, y_test = prepare_and_split_dataset(df)"
   ]
  },
  {
   "cell_type": "code",
   "execution_count": 15,
   "id": "5329e243-7bff-490f-837d-b36119268c12",
   "metadata": {},
   "outputs": [
    {
     "data": {
      "text/plain": [
       "(9704, 9704)"
      ]
     },
     "execution_count": 15,
     "metadata": {},
     "output_type": "execute_result"
    }
   ],
   "source": [
    "len(df_train) + len(df_val) + len(df_test), len(df)"
   ]
  },
  {
   "cell_type": "markdown",
   "id": "ff51152b-72a5-458f-830c-4165fdc01b33",
   "metadata": {},
   "source": [
    "## Question 3"
   ]
  },
  {
   "cell_type": "code",
   "execution_count": 16,
   "id": "7c88df12-3581-48b9-855f-03502b02f4e9",
   "metadata": {},
   "outputs": [],
   "source": [
    "def train_linear_regression(X, y):\n",
    "    XTX = X.T.dot(X)\n",
    "    XTX_inv = np.linalg.inv(XTX)\n",
    "    w = XTX_inv.dot(X.T).dot(y)\n",
    "    return w"
   ]
  },
  {
   "cell_type": "code",
   "execution_count": 17,
   "id": "ee1ff0d6-d97d-447e-ba93-d00299114bc8",
   "metadata": {},
   "outputs": [],
   "source": [
    "def compute_rmse(y, y_pred):\n",
    "    se = (y - y_pred) ** 2\n",
    "    mse = se.mean()\n",
    "    return np.sqrt(mse)"
   ]
  },
  {
   "cell_type": "markdown",
   "id": "f0b0442f-6559-4b35-8f65-0a58828dda1c",
   "metadata": {},
   "source": [
    "### Option 1: fill missing horsepower values with 0"
   ]
  },
  {
   "cell_type": "code",
   "execution_count": 18,
   "id": "e6ba3f82-a35c-4d2b-969d-7bd1364bd8b9",
   "metadata": {},
   "outputs": [],
   "source": [
    "def prepare_X_option_1(df):\n",
    "    df[\"horsepower\"] = df[\"horsepower\"].fillna(0)\n",
    "    X = df.values\n",
    "    ones = np.ones(X.shape[0])\n",
    "    X = np.column_stack([ones, X])\n",
    "    return X"
   ]
  },
  {
   "cell_type": "code",
   "execution_count": 19,
   "id": "c2c74600-a45d-4731-8c22-ad3f06756a8a",
   "metadata": {},
   "outputs": [
    {
     "data": {
      "text/plain": [
       "np.float64(0.52)"
      ]
     },
     "execution_count": 19,
     "metadata": {},
     "output_type": "execute_result"
    }
   ],
   "source": [
    "X_train = prepare_X_option_1(df_train)\n",
    "w = train_linear_regression(X_train, y_train)\n",
    "\n",
    "X_val = prepare_X_option_1(df_val)\n",
    "y_pred = X_val.dot(w)\n",
    "round(compute_rmse(y_val, y_pred), 2)"
   ]
  },
  {
   "cell_type": "markdown",
   "id": "d63ed12d-9528-4683-bc26-073d70dd0e68",
   "metadata": {},
   "source": [
    "### Option 2: fill missing horsepower values with mean"
   ]
  },
  {
   "cell_type": "code",
   "execution_count": 20,
   "id": "65a0a588-4a1b-490d-af16-c05f64fb1dac",
   "metadata": {},
   "outputs": [],
   "source": [
    "def prepare_X_option_2(df):\n",
    "    df[\"horsepower\"] = df[\"horsepower\"].fillna(df[\"horsepower\"].mean())\n",
    "    X = df.values\n",
    "    ones = np.ones(X.shape[0])\n",
    "    X = np.column_stack([ones, X])\n",
    "    return X"
   ]
  },
  {
   "cell_type": "code",
   "execution_count": 21,
   "id": "d74a32fc-b5fd-494c-8cd0-a1d11a319641",
   "metadata": {},
   "outputs": [
    {
     "data": {
      "text/plain": [
       "np.float64(0.52)"
      ]
     },
     "execution_count": 21,
     "metadata": {},
     "output_type": "execute_result"
    }
   ],
   "source": [
    "X_train = prepare_X_option_2(df_train)\n",
    "w = train_linear_regression(X_train, y_train)\n",
    "\n",
    "X_val = prepare_X_option_2(df_val)\n",
    "y_pred = X_val.dot(w)\n",
    "round(compute_rmse(y_val, y_pred), 2)"
   ]
  },
  {
   "cell_type": "markdown",
   "id": "101d3cd2-9720-474a-8c24-6aeb15753979",
   "metadata": {},
   "source": [
    "## Question 4"
   ]
  },
  {
   "cell_type": "code",
   "execution_count": 22,
   "id": "84b395e1-b932-4a92-84a7-94129c820175",
   "metadata": {},
   "outputs": [],
   "source": [
    "def train_linear_regression_reg(X, y, r=0.01):\n",
    "    XTX = X.T.dot(X)\n",
    "    XTX = XTX + r * np.eye(XTX.shape[0])\n",
    "    XTX_inv = np.linalg.inv(XTX)\n",
    "    w = XTX_inv.dot(X.T).dot(y)\n",
    "    return w"
   ]
  },
  {
   "cell_type": "code",
   "execution_count": 23,
   "id": "f7525f05-7e66-4b08-8248-f2e185a78617",
   "metadata": {},
   "outputs": [
    {
     "name": "stdout",
     "output_type": "stream",
     "text": [
      "RMSE, r = 0: 0.52\n",
      "RMSE, r = 0.01: 0.52\n",
      "RMSE, r = 1: 0.52\n",
      "RMSE, r = 10: 0.52\n",
      "RMSE, r = 100: 0.52\n"
     ]
    }
   ],
   "source": [
    "X_train = prepare_X_option_1(df_train)\n",
    "for r in [0, 0.01, 1, 10, 100]:\n",
    "    w = train_linear_regression_reg(X_train, y_train, r)\n",
    "    X_val = prepare_X_option_1(df_val)\n",
    "    y_pred = X_val.dot(w)\n",
    "    print(f\"RMSE, r = {r}: {round(compute_rmse(y_val, y_pred), 2)}\")"
   ]
  },
  {
   "cell_type": "markdown",
   "id": "d3c17136-9386-4505-87e2-de416c83eda6",
   "metadata": {},
   "source": [
    "## Question 5"
   ]
  },
  {
   "cell_type": "code",
   "execution_count": 24,
   "id": "667e00ab-0ffa-4fdf-b055-a52691e89df7",
   "metadata": {},
   "outputs": [
    {
     "name": "stdout",
     "output_type": "stream",
     "text": [
      "std seed scores = 0.007\n"
     ]
    }
   ],
   "source": [
    "seed_scores = {}\n",
    "for seed in [0, 1, 2, 3, 4, 5, 6, 7, 8, 9]:\n",
    "    idx = np.arange(n)\n",
    "    np.random.seed(seed)\n",
    "    np.random.shuffle(idx)\n",
    "    df_train, df_val, df_test, y_train, y_val, y_test = prepare_and_split_dataset(df)\n",
    "\n",
    "    X_train = prepare_X_option_1(df_train)\n",
    "    w = train_linear_regression(X_train, y_train)\n",
    "    \n",
    "    X_val = prepare_X_option_1(df_val)\n",
    "    y_pred = X_val.dot(w)\n",
    "    seed_scores[seed] = compute_rmse(y_val, y_pred)\n",
    "\n",
    "std = np.std(list(seed_scores.values()))\n",
    "print(f\"std seed scores = {round(std, 3)}\")"
   ]
  },
  {
   "cell_type": "markdown",
   "id": "f32ef8c4-0359-41ae-9d32-304e2ae30a62",
   "metadata": {},
   "source": [
    "## Question 6"
   ]
  },
  {
   "cell_type": "code",
   "execution_count": 25,
   "id": "1eab925d-d201-490e-9427-776d23ba64ac",
   "metadata": {},
   "outputs": [
    {
     "data": {
      "text/plain": [
       "np.float64(0.516)"
      ]
     },
     "execution_count": 25,
     "metadata": {},
     "output_type": "execute_result"
    }
   ],
   "source": [
    "idx = np.arange(n)\n",
    "np.random.seed(9)\n",
    "np.random.shuffle(idx)\n",
    "df_train, df_val, df_test, y_train, y_val, y_test = prepare_and_split_dataset(df)\n",
    "df_full = pd.concat([df_train, df_val])\n",
    "y_full = np.concatenate([y_train, y_val])\n",
    "\n",
    "X_full = prepare_X_option_1(df_full)\n",
    "w = train_linear_regression_reg(X_full, y_full, r=0.001)\n",
    "\n",
    "X_test = prepare_X_option_1(df_test)\n",
    "y_pred = X_test.dot(w)\n",
    "round(compute_rmse(y_test, y_pred), 3)"
   ]
  }
 ],
 "metadata": {
  "kernelspec": {
   "display_name": "Python 3 (ipykernel)",
   "language": "python",
   "name": "python3"
  },
  "language_info": {
   "codemirror_mode": {
    "name": "ipython",
    "version": 3
   },
   "file_extension": ".py",
   "mimetype": "text/x-python",
   "name": "python",
   "nbconvert_exporter": "python",
   "pygments_lexer": "ipython3",
   "version": "3.12.1"
  }
 },
 "nbformat": 4,
 "nbformat_minor": 5
}
